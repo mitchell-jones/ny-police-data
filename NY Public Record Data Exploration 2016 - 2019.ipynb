{
 "cells": [
  {
   "cell_type": "markdown",
   "metadata": {},
   "source": [
    "# Exploration of NY Police Salaries 2016 - 2019\n",
    "Notebook Author: Mitchell Jones \n",
    "\n",
    "This notebook is intended as a exploration of various statistics and comparisons surrounding NY Police Officer & Police Department salaries from the years 2016 - 2019. Given recent events and discourse on social media platforms like Twitter, I found it pertinent to explore these statistics with the aim of answering various questions, including:\n",
    "\n",
    "How are police paid differently from other city employees?\n",
    "What departments of the city are paid the most?\n",
    "Do Police Officers receive Overtime Pay at higher rates, or percentages? What about Police Department Employees?\n",
    "\n",
    "Source Data can be found at: https://data.cityofnewyork.us/City-Government/Citywide-Payroll-Data-Fiscal-Year-/k397-673e\n"
   ]
  },
  {
   "cell_type": "markdown",
   "metadata": {},
   "source": [
    "# Import Statements"
   ]
  },
  {
   "cell_type": "code",
   "execution_count": null,
   "metadata": {},
   "outputs": [],
   "source": [
    "# Import Statements - Data Handling\n",
    "import os\n",
    "import pandas as pd\n",
    "# Visualization\n",
    "import matplotlib as plt\n",
    "import seaborn as sns"
   ]
  },
  {
   "cell_type": "code",
   "execution_count": null,
   "metadata": {},
   "outputs": [],
   "source": [
    "# Set working directory\n",
    "os.chdir('/Users/user1/Downloads')\n",
    "# Import File\n",
    "filename = 'Citywide_Payroll_Data__Fiscal_Year_.csv'\n",
    "payroll = pd.read_csv(filename)"
   ]
  },
  {
   "cell_type": "markdown",
   "metadata": {},
   "source": [
    "# Basic Exploration"
   ]
  },
  {
   "cell_type": "code",
   "execution_count": null,
   "metadata": {},
   "outputs": [],
   "source": [
    "# Display Initial Statistics - Check Head of Data\n",
    "payroll.head()"
   ]
  },
  {
   "cell_type": "code",
   "execution_count": null,
   "metadata": {},
   "outputs": [],
   "source": [
    "# Check DataTypes\n",
    "payroll.dtypes"
   ]
  },
  {
   "cell_type": "code",
   "execution_count": null,
   "metadata": {},
   "outputs": [],
   "source": [
    "# Describe Numeric Columns\n",
    "payroll.describe()"
   ]
  },
  {
   "cell_type": "code",
   "execution_count": null,
   "metadata": {},
   "outputs": [],
   "source": [
    "# Lets convert Fiscal Year and Agency Start Date to datetime objects later\n",
    "# Check Number of Unique Values Per Column\n",
    "payroll.nunique()"
   ]
  },
  {
   "cell_type": "code",
   "execution_count": null,
   "metadata": {},
   "outputs": [],
   "source": [
    "# Odd - there are 6 unique values of Fiscal Year; We will investigate that further.\n",
    "# Number of Nulls per Column\n",
    "payroll.isnull().sum()"
   ]
  },
  {
   "cell_type": "code",
   "execution_count": null,
   "metadata": {},
   "outputs": [],
   "source": [
    "# Columns to Investigate NaN's in:\n",
    "# Payroll Number, First / Last Name / Middle Initial, Work Location, Title Description"
   ]
  },
  {
   "cell_type": "markdown",
   "metadata": {},
   "source": [
    "# Data Preparation\n",
    "To-Do List:\n",
    "<br>Convert Fiscal Year / Agency Start Date to Dt Objects\n",
    "<br>Investigate Unique Values of Fiscal Year\n",
    "<br>Address NaNs"
   ]
  },
  {
   "cell_type": "code",
   "execution_count": null,
   "metadata": {},
   "outputs": [],
   "source": []
  }
 ],
 "metadata": {
  "kernelspec": {
   "display_name": "Python 3",
   "language": "python",
   "name": "python3"
  },
  "language_info": {
   "codemirror_mode": {
    "name": "ipython",
    "version": 3
   },
   "file_extension": ".py",
   "mimetype": "text/x-python",
   "name": "python",
   "nbconvert_exporter": "python",
   "pygments_lexer": "ipython3",
   "version": "3.7.4"
  }
 },
 "nbformat": 4,
 "nbformat_minor": 2
}
