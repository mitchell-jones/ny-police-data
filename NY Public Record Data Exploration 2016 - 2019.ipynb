{
 "cells": [
  {
   "cell_type": "markdown",
   "metadata": {},
   "source": [
    "# Exploration of NY Police Salaries 2014 - 2019\n",
    "Notebook Author: Mitchell Jones \n",
    "\n",
    "This notebook is intended as a exploration of various statistics and comparisons surrounding NY Police Officer & Police Department salaries from the years 2014 - 2019. Given recent events and discourse on social media platforms like Twitter, I found it pertinent to explore these statistics with the aim of answering various questions, including:\n",
    "\n",
    "How are Police Officers paid differently from other city employees?\n",
    "<br>What departments of the city are paid the most?\n",
    "<br>Do Police Officers receive Overtime Pay at higher rates, or as a percentage of their salary?\n",
    "\n",
    "Additional questions may include salaries for Police Department Employees, rather than just Police officers.\n",
    "\n",
    "Source Data can be found at: https://data.cityofnewyork.us/City-Government/Citywide-Payroll-Data-Fiscal-Year-/k397-673e\n"
   ]
  },
  {
   "cell_type": "markdown",
   "metadata": {},
   "source": [
    "# Import Statements"
   ]
  },
  {
   "cell_type": "code",
   "execution_count": 2,
   "metadata": {},
   "outputs": [],
   "source": [
    "# Import Statements - Data Handling\n",
    "import os\n",
    "import pandas as pd\n",
    "import numpy as np\n",
    "# Visualization\n",
    "import matplotlib.pyplot as plt\n",
    "import seaborn as sns"
   ]
  },
  {
   "cell_type": "code",
   "execution_count": 3,
   "metadata": {},
   "outputs": [
    {
     "name": "stderr",
     "output_type": "stream",
     "text": [
      "/opt/anaconda3/lib/python3.7/site-packages/IPython/core/interactiveshell.py:3058: DtypeWarning: Columns (7) have mixed types. Specify dtype option on import or set low_memory=False.\n",
      "  interactivity=interactivity, compiler=compiler, result=result)\n"
     ]
    }
   ],
   "source": [
    "# Set working directory\n",
    "os.chdir('/Users/user1/Downloads')\n",
    "# Import File\n",
    "filename = 'Citywide_Payroll_Data__Fiscal_Year_.csv'\n",
    "payroll = pd.read_csv(filename)"
   ]
  },
  {
   "cell_type": "markdown",
   "metadata": {},
   "source": [
    "# Basic Exploration"
   ]
  },
  {
   "cell_type": "code",
   "execution_count": 4,
   "metadata": {},
   "outputs": [
    {
     "data": {
      "text/html": [
       "<div>\n",
       "<style scoped>\n",
       "    .dataframe tbody tr th:only-of-type {\n",
       "        vertical-align: middle;\n",
       "    }\n",
       "\n",
       "    .dataframe tbody tr th {\n",
       "        vertical-align: top;\n",
       "    }\n",
       "\n",
       "    .dataframe thead th {\n",
       "        text-align: right;\n",
       "    }\n",
       "</style>\n",
       "<table border=\"1\" class=\"dataframe\">\n",
       "  <thead>\n",
       "    <tr style=\"text-align: right;\">\n",
       "      <th></th>\n",
       "      <th>Fiscal Year</th>\n",
       "      <th>Payroll Number</th>\n",
       "      <th>Agency Name</th>\n",
       "      <th>Last Name</th>\n",
       "      <th>First Name</th>\n",
       "      <th>Mid Init</th>\n",
       "      <th>Agency Start Date</th>\n",
       "      <th>Work Location Borough</th>\n",
       "      <th>Title Description</th>\n",
       "      <th>Leave Status as of June 30</th>\n",
       "      <th>Base Salary</th>\n",
       "      <th>Pay Basis</th>\n",
       "      <th>Regular Hours</th>\n",
       "      <th>Regular Gross Paid</th>\n",
       "      <th>OT Hours</th>\n",
       "      <th>Total OT Paid</th>\n",
       "      <th>Total Other Pay</th>\n",
       "    </tr>\n",
       "  </thead>\n",
       "  <tbody>\n",
       "    <tr>\n",
       "      <td>0</td>\n",
       "      <td>2016</td>\n",
       "      <td>NaN</td>\n",
       "      <td>DISTRICT ATTORNEY-MANHATTAN</td>\n",
       "      <td>ABA'AHMID</td>\n",
       "      <td>RAHASHEEM</td>\n",
       "      <td>E</td>\n",
       "      <td>07/14/2003</td>\n",
       "      <td>MANHATTAN</td>\n",
       "      <td>COMMUNITY ASSOCIATE</td>\n",
       "      <td>ACTIVE</td>\n",
       "      <td>47678.0</td>\n",
       "      <td>per Annum</td>\n",
       "      <td>1830.00</td>\n",
       "      <td>47166.03</td>\n",
       "      <td>2.25</td>\n",
       "      <td>57.28</td>\n",
       "      <td>0.0</td>\n",
       "    </tr>\n",
       "    <tr>\n",
       "      <td>1</td>\n",
       "      <td>2016</td>\n",
       "      <td>NaN</td>\n",
       "      <td>DISTRICT ATTORNEY-MANHATTAN</td>\n",
       "      <td>ABENSUR</td>\n",
       "      <td>MARGARET</td>\n",
       "      <td>NaN</td>\n",
       "      <td>06/12/1995</td>\n",
       "      <td>MANHATTAN</td>\n",
       "      <td>ADMINISTRATIVE ACCOUNTANT</td>\n",
       "      <td>ACTIVE</td>\n",
       "      <td>119959.0</td>\n",
       "      <td>per Annum</td>\n",
       "      <td>1831.00</td>\n",
       "      <td>119042.50</td>\n",
       "      <td>0.00</td>\n",
       "      <td>0.00</td>\n",
       "      <td>0.0</td>\n",
       "    </tr>\n",
       "    <tr>\n",
       "      <td>2</td>\n",
       "      <td>2016</td>\n",
       "      <td>NaN</td>\n",
       "      <td>DISTRICT ATTORNEY-MANHATTAN</td>\n",
       "      <td>ABOUNAOUM</td>\n",
       "      <td>ANDREA</td>\n",
       "      <td>L</td>\n",
       "      <td>10/11/2011</td>\n",
       "      <td>MANHATTAN</td>\n",
       "      <td>COMMUNITY ASSOCIATE</td>\n",
       "      <td>ON LEAVE</td>\n",
       "      <td>39966.0</td>\n",
       "      <td>per Annum</td>\n",
       "      <td>1181.68</td>\n",
       "      <td>27452.62</td>\n",
       "      <td>1.00</td>\n",
       "      <td>21.34</td>\n",
       "      <td>33.0</td>\n",
       "    </tr>\n",
       "    <tr>\n",
       "      <td>3</td>\n",
       "      <td>2016</td>\n",
       "      <td>NaN</td>\n",
       "      <td>DISTRICT ATTORNEY-MANHATTAN</td>\n",
       "      <td>ABRAHAM</td>\n",
       "      <td>JONATHAN</td>\n",
       "      <td>J</td>\n",
       "      <td>12/01/2014</td>\n",
       "      <td>MANHATTAN</td>\n",
       "      <td>COMPUTER SYSTEMS MANAGER</td>\n",
       "      <td>ACTIVE</td>\n",
       "      <td>116000.0</td>\n",
       "      <td>per Annum</td>\n",
       "      <td>1831.00</td>\n",
       "      <td>115104.57</td>\n",
       "      <td>0.00</td>\n",
       "      <td>0.00</td>\n",
       "      <td>0.0</td>\n",
       "    </tr>\n",
       "    <tr>\n",
       "      <td>4</td>\n",
       "      <td>2016</td>\n",
       "      <td>NaN</td>\n",
       "      <td>DISTRICT ATTORNEY-MANHATTAN</td>\n",
       "      <td>ABRAMS</td>\n",
       "      <td>JOSEPH</td>\n",
       "      <td>NaN</td>\n",
       "      <td>05/21/2015</td>\n",
       "      <td>MANHATTAN</td>\n",
       "      <td>COLLEGE AIDE</td>\n",
       "      <td>CEASED</td>\n",
       "      <td>1.0</td>\n",
       "      <td>per Hour</td>\n",
       "      <td>0.00</td>\n",
       "      <td>3500.00</td>\n",
       "      <td>0.00</td>\n",
       "      <td>0.00</td>\n",
       "      <td>0.0</td>\n",
       "    </tr>\n",
       "  </tbody>\n",
       "</table>\n",
       "</div>"
      ],
      "text/plain": [
       "   Fiscal Year  Payroll Number                  Agency Name  Last Name  \\\n",
       "0         2016             NaN  DISTRICT ATTORNEY-MANHATTAN  ABA'AHMID   \n",
       "1         2016             NaN  DISTRICT ATTORNEY-MANHATTAN    ABENSUR   \n",
       "2         2016             NaN  DISTRICT ATTORNEY-MANHATTAN  ABOUNAOUM   \n",
       "3         2016             NaN  DISTRICT ATTORNEY-MANHATTAN    ABRAHAM   \n",
       "4         2016             NaN  DISTRICT ATTORNEY-MANHATTAN     ABRAMS   \n",
       "\n",
       "  First Name Mid Init Agency Start Date Work Location Borough  \\\n",
       "0  RAHASHEEM        E        07/14/2003             MANHATTAN   \n",
       "1   MARGARET      NaN        06/12/1995             MANHATTAN   \n",
       "2     ANDREA        L        10/11/2011             MANHATTAN   \n",
       "3   JONATHAN        J        12/01/2014             MANHATTAN   \n",
       "4     JOSEPH      NaN        05/21/2015             MANHATTAN   \n",
       "\n",
       "           Title Description Leave Status as of June 30  Base Salary  \\\n",
       "0        COMMUNITY ASSOCIATE                     ACTIVE      47678.0   \n",
       "1  ADMINISTRATIVE ACCOUNTANT                     ACTIVE     119959.0   \n",
       "2        COMMUNITY ASSOCIATE                   ON LEAVE      39966.0   \n",
       "3   COMPUTER SYSTEMS MANAGER                     ACTIVE     116000.0   \n",
       "4               COLLEGE AIDE                     CEASED          1.0   \n",
       "\n",
       "   Pay Basis  Regular Hours  Regular Gross Paid  OT Hours  Total OT Paid  \\\n",
       "0  per Annum        1830.00            47166.03      2.25          57.28   \n",
       "1  per Annum        1831.00           119042.50      0.00           0.00   \n",
       "2  per Annum        1181.68            27452.62      1.00          21.34   \n",
       "3  per Annum        1831.00           115104.57      0.00           0.00   \n",
       "4   per Hour           0.00             3500.00      0.00           0.00   \n",
       "\n",
       "   Total Other Pay  \n",
       "0              0.0  \n",
       "1              0.0  \n",
       "2             33.0  \n",
       "3              0.0  \n",
       "4              0.0  "
      ]
     },
     "execution_count": 4,
     "metadata": {},
     "output_type": "execute_result"
    }
   ],
   "source": [
    "# Display Initial Statistics - Check Head of Data\n",
    "payroll.head()"
   ]
  },
  {
   "cell_type": "code",
   "execution_count": 5,
   "metadata": {},
   "outputs": [
    {
     "data": {
      "text/html": [
       "<div>\n",
       "<style scoped>\n",
       "    .dataframe tbody tr th:only-of-type {\n",
       "        vertical-align: middle;\n",
       "    }\n",
       "\n",
       "    .dataframe tbody tr th {\n",
       "        vertical-align: top;\n",
       "    }\n",
       "\n",
       "    .dataframe thead th {\n",
       "        text-align: right;\n",
       "    }\n",
       "</style>\n",
       "<table border=\"1\" class=\"dataframe\">\n",
       "  <thead>\n",
       "    <tr style=\"text-align: right;\">\n",
       "      <th></th>\n",
       "      <th>Fiscal Year</th>\n",
       "      <th>Payroll Number</th>\n",
       "      <th>Base Salary</th>\n",
       "      <th>Regular Hours</th>\n",
       "      <th>Regular Gross Paid</th>\n",
       "      <th>OT Hours</th>\n",
       "      <th>Total OT Paid</th>\n",
       "      <th>Total Other Pay</th>\n",
       "    </tr>\n",
       "  </thead>\n",
       "  <tbody>\n",
       "    <tr>\n",
       "      <td>count</td>\n",
       "      <td>3.333080e+06</td>\n",
       "      <td>1.587640e+06</td>\n",
       "      <td>3.333080e+06</td>\n",
       "      <td>3.333080e+06</td>\n",
       "      <td>3.333080e+06</td>\n",
       "      <td>3.333080e+06</td>\n",
       "      <td>3.333080e+06</td>\n",
       "      <td>3.333080e+06</td>\n",
       "    </tr>\n",
       "    <tr>\n",
       "      <td>mean</td>\n",
       "      <td>2.016551e+03</td>\n",
       "      <td>5.788984e+02</td>\n",
       "      <td>4.245116e+04</td>\n",
       "      <td>6.685378e+02</td>\n",
       "      <td>4.173166e+04</td>\n",
       "      <td>5.872698e+01</td>\n",
       "      <td>3.255362e+03</td>\n",
       "      <td>2.094629e+03</td>\n",
       "    </tr>\n",
       "    <tr>\n",
       "      <td>std</td>\n",
       "      <td>1.704581e+00</td>\n",
       "      <td>2.980495e+02</td>\n",
       "      <td>4.089202e+04</td>\n",
       "      <td>8.855774e+02</td>\n",
       "      <td>3.869131e+04</td>\n",
       "      <td>1.463332e+02</td>\n",
       "      <td>8.867136e+03</td>\n",
       "      <td>5.057170e+03</td>\n",
       "    </tr>\n",
       "    <tr>\n",
       "      <td>min</td>\n",
       "      <td>2.014000e+03</td>\n",
       "      <td>2.000000e+00</td>\n",
       "      <td>1.000000e-02</td>\n",
       "      <td>-7.304300e+02</td>\n",
       "      <td>-7.622305e+04</td>\n",
       "      <td>-2.090000e+02</td>\n",
       "      <td>-2.649388e+04</td>\n",
       "      <td>-2.815950e+05</td>\n",
       "    </tr>\n",
       "    <tr>\n",
       "      <td>25%</td>\n",
       "      <td>2.015000e+03</td>\n",
       "      <td>3.000000e+02</td>\n",
       "      <td>3.318000e+01</td>\n",
       "      <td>0.000000e+00</td>\n",
       "      <td>3.908155e+03</td>\n",
       "      <td>0.000000e+00</td>\n",
       "      <td>0.000000e+00</td>\n",
       "      <td>0.000000e+00</td>\n",
       "    </tr>\n",
       "    <tr>\n",
       "      <td>50%</td>\n",
       "      <td>2.017000e+03</td>\n",
       "      <td>7.420000e+02</td>\n",
       "      <td>4.107900e+04</td>\n",
       "      <td>0.000000e+00</td>\n",
       "      <td>3.582054e+04</td>\n",
       "      <td>0.000000e+00</td>\n",
       "      <td>0.000000e+00</td>\n",
       "      <td>0.000000e+00</td>\n",
       "    </tr>\n",
       "    <tr>\n",
       "      <td>75%</td>\n",
       "      <td>2.018000e+03</td>\n",
       "      <td>7.470000e+02</td>\n",
       "      <td>7.648800e+04</td>\n",
       "      <td>1.825000e+03</td>\n",
       "      <td>7.320607e+04</td>\n",
       "      <td>1.750000e+00</td>\n",
       "      <td>1.893225e+02</td>\n",
       "      <td>1.105633e+03</td>\n",
       "    </tr>\n",
       "    <tr>\n",
       "      <td>max</td>\n",
       "      <td>2.019000e+03</td>\n",
       "      <td>9.960000e+02</td>\n",
       "      <td>3.527630e+05</td>\n",
       "      <td>4.171430e+03</td>\n",
       "      <td>6.723089e+05</td>\n",
       "      <td>3.347500e+03</td>\n",
       "      <td>2.373897e+05</td>\n",
       "      <td>1.003558e+05</td>\n",
       "    </tr>\n",
       "  </tbody>\n",
       "</table>\n",
       "</div>"
      ],
      "text/plain": [
       "        Fiscal Year  Payroll Number   Base Salary  Regular Hours  \\\n",
       "count  3.333080e+06    1.587640e+06  3.333080e+06   3.333080e+06   \n",
       "mean   2.016551e+03    5.788984e+02  4.245116e+04   6.685378e+02   \n",
       "std    1.704581e+00    2.980495e+02  4.089202e+04   8.855774e+02   \n",
       "min    2.014000e+03    2.000000e+00  1.000000e-02  -7.304300e+02   \n",
       "25%    2.015000e+03    3.000000e+02  3.318000e+01   0.000000e+00   \n",
       "50%    2.017000e+03    7.420000e+02  4.107900e+04   0.000000e+00   \n",
       "75%    2.018000e+03    7.470000e+02  7.648800e+04   1.825000e+03   \n",
       "max    2.019000e+03    9.960000e+02  3.527630e+05   4.171430e+03   \n",
       "\n",
       "       Regular Gross Paid      OT Hours  Total OT Paid  Total Other Pay  \n",
       "count        3.333080e+06  3.333080e+06   3.333080e+06     3.333080e+06  \n",
       "mean         4.173166e+04  5.872698e+01   3.255362e+03     2.094629e+03  \n",
       "std          3.869131e+04  1.463332e+02   8.867136e+03     5.057170e+03  \n",
       "min         -7.622305e+04 -2.090000e+02  -2.649388e+04    -2.815950e+05  \n",
       "25%          3.908155e+03  0.000000e+00   0.000000e+00     0.000000e+00  \n",
       "50%          3.582054e+04  0.000000e+00   0.000000e+00     0.000000e+00  \n",
       "75%          7.320607e+04  1.750000e+00   1.893225e+02     1.105633e+03  \n",
       "max          6.723089e+05  3.347500e+03   2.373897e+05     1.003558e+05  "
      ]
     },
     "execution_count": 5,
     "metadata": {},
     "output_type": "execute_result"
    }
   ],
   "source": [
    "# Describe Numeric Columns\n",
    "payroll.describe()"
   ]
  },
  {
   "cell_type": "code",
   "execution_count": 6,
   "metadata": {},
   "outputs": [
    {
     "data": {
      "text/plain": [
       "Fiscal Year                     int64\n",
       "Payroll Number                float64\n",
       "Agency Name                    object\n",
       "Last Name                      object\n",
       "First Name                     object\n",
       "Mid Init                       object\n",
       "Agency Start Date              object\n",
       "Work Location Borough          object\n",
       "Title Description              object\n",
       "Leave Status as of June 30     object\n",
       "Base Salary                   float64\n",
       "Pay Basis                      object\n",
       "Regular Hours                 float64\n",
       "Regular Gross Paid            float64\n",
       "OT Hours                      float64\n",
       "Total OT Paid                 float64\n",
       "Total Other Pay               float64\n",
       "dtype: object"
      ]
     },
     "execution_count": 6,
     "metadata": {},
     "output_type": "execute_result"
    }
   ],
   "source": [
    "# Check DataTypes\n",
    "payroll.dtypes"
   ]
  },
  {
   "cell_type": "code",
   "execution_count": 7,
   "metadata": {},
   "outputs": [
    {
     "data": {
      "text/plain": [
       "Fiscal Year                         6\n",
       "Payroll Number                    157\n",
       "Agency Name                       165\n",
       "Last Name                      151345\n",
       "First Name                      84267\n",
       "Mid Init                           43\n",
       "Agency Start Date               14621\n",
       "Work Location Borough              22\n",
       "Title Description                1761\n",
       "Leave Status as of June 30          5\n",
       "Base Salary                     89793\n",
       "Pay Basis                           4\n",
       "Regular Hours                   80637\n",
       "Regular Gross Paid            1613980\n",
       "OT Hours                        47944\n",
       "Total OT Paid                  706450\n",
       "Total Other Pay                659237\n",
       "dtype: int64"
      ]
     },
     "execution_count": 7,
     "metadata": {},
     "output_type": "execute_result"
    }
   ],
   "source": [
    "# Lets convert Fiscal Year and Agency Start Date to datetime objects later\n",
    "# Check Number of Unique Values Per Column\n",
    "payroll.nunique()"
   ]
  },
  {
   "cell_type": "code",
   "execution_count": 8,
   "metadata": {},
   "outputs": [
    {
     "data": {
      "text/plain": [
       "Fiscal Year                         0\n",
       "Payroll Number                1745440\n",
       "Agency Name                         0\n",
       "Last Name                        1677\n",
       "First Name                       1698\n",
       "Mid Init                      1355564\n",
       "Agency Start Date                   0\n",
       "Work Location Borough          506223\n",
       "Title Description                  78\n",
       "Leave Status as of June 30          0\n",
       "Base Salary                         0\n",
       "Pay Basis                           0\n",
       "Regular Hours                       0\n",
       "Regular Gross Paid                  0\n",
       "OT Hours                            0\n",
       "Total OT Paid                       0\n",
       "Total Other Pay                     0\n",
       "dtype: int64"
      ]
     },
     "execution_count": 8,
     "metadata": {},
     "output_type": "execute_result"
    }
   ],
   "source": [
    "# Number of Unique Payroll Numbers - why are there any in this file?\n",
    "# Number of Nulls per Column\n",
    "payroll.isnull().sum()"
   ]
  },
  {
   "cell_type": "code",
   "execution_count": 9,
   "metadata": {},
   "outputs": [],
   "source": [
    "# Columns to Investigate NaN's in:\n",
    "# Payroll Number, First / Last Name / Middle Initial, Work Location, Title Description"
   ]
  },
  {
   "cell_type": "markdown",
   "metadata": {},
   "source": [
    "# Data Preparation\n",
    "To-Do List:\n",
    "<br>Investigate Unique Values of Payroll Numbers\n",
    "<br>Convert Fiscal Year and Agency Start Date to Dt Objects\n",
    "<br>Address / Fill NaNs"
   ]
  },
  {
   "cell_type": "code",
   "execution_count": 10,
   "metadata": {},
   "outputs": [
    {
     "data": {
      "text/plain": [
       "array([ nan,  15.,  33.,   2.,   3.,   4.,   8.,   9.,  10.,  11.,  12.,\n",
       "        13.,  14.,  17.,  19.,  21.,  25.,  30.,  32.,  41.,  54.,  57.,\n",
       "        67.,  69., 102., 210., 300.,  71.,  72.,  73., 101., 103., 125.,\n",
       "       126., 127., 130., 131., 132., 133., 134., 136., 138., 156., 185.,\n",
       "       202., 214., 226., 256., 261., 312., 313., 341., 342., 343., 344.,\n",
       "       345., 346., 347., 348., 349., 350., 351., 352., 381., 382., 383.,\n",
       "       384., 385., 386., 387., 388., 389., 390., 391., 392., 431., 432.,\n",
       "       433., 434., 435., 436., 437., 438., 439., 440., 441., 442., 443.,\n",
       "       444., 462., 463., 464., 465., 466., 468., 469., 740., 742., 470.,\n",
       "       471., 472., 473., 474., 475., 476., 477., 478., 479., 480., 481.,\n",
       "       482., 483., 484., 485., 486., 487., 488., 491., 492., 493., 744.,\n",
       "       745., 746., 747., 781., 801., 806., 816., 810., 820., 827., 826.,\n",
       "       846., 996., 831., 836., 841., 850., 858., 860., 866., 868., 941.,\n",
       "       942., 943., 944., 945.,  63.,  82., 257., 467.,  56., 901., 902.,\n",
       "       903., 904., 905., 906.])"
      ]
     },
     "execution_count": 10,
     "metadata": {},
     "output_type": "execute_result"
    }
   ],
   "source": [
    "# Investigate Unique Values of Payroll Number\n",
    "payroll['Payroll Number'].unique()"
   ]
  },
  {
   "cell_type": "code",
   "execution_count": 11,
   "metadata": {},
   "outputs": [
    {
     "data": {
      "text/html": [
       "<div>\n",
       "<style scoped>\n",
       "    .dataframe tbody tr th:only-of-type {\n",
       "        vertical-align: middle;\n",
       "    }\n",
       "\n",
       "    .dataframe tbody tr th {\n",
       "        vertical-align: top;\n",
       "    }\n",
       "\n",
       "    .dataframe thead th {\n",
       "        text-align: right;\n",
       "    }\n",
       "</style>\n",
       "<table border=\"1\" class=\"dataframe\">\n",
       "  <thead>\n",
       "    <tr style=\"text-align: right;\">\n",
       "      <th></th>\n",
       "      <th>Fiscal Year</th>\n",
       "      <th>Payroll Number</th>\n",
       "      <th>Agency Name</th>\n",
       "      <th>Last Name</th>\n",
       "      <th>First Name</th>\n",
       "      <th>Mid Init</th>\n",
       "      <th>Agency Start Date</th>\n",
       "      <th>Work Location Borough</th>\n",
       "      <th>Title Description</th>\n",
       "      <th>Leave Status as of June 30</th>\n",
       "      <th>Base Salary</th>\n",
       "      <th>Pay Basis</th>\n",
       "      <th>Regular Hours</th>\n",
       "      <th>Regular Gross Paid</th>\n",
       "      <th>OT Hours</th>\n",
       "      <th>Total OT Paid</th>\n",
       "      <th>Total Other Pay</th>\n",
       "    </tr>\n",
       "  </thead>\n",
       "  <tbody>\n",
       "    <tr>\n",
       "      <td>0</td>\n",
       "      <td>2016-01-01</td>\n",
       "      <td>NaN</td>\n",
       "      <td>DISTRICT ATTORNEY-MANHATTAN</td>\n",
       "      <td>ABA'AHMID</td>\n",
       "      <td>RAHASHEEM</td>\n",
       "      <td>E</td>\n",
       "      <td>2003-07-14</td>\n",
       "      <td>MANHATTAN</td>\n",
       "      <td>COMMUNITY ASSOCIATE</td>\n",
       "      <td>ACTIVE</td>\n",
       "      <td>47678.0</td>\n",
       "      <td>per Annum</td>\n",
       "      <td>1830.00</td>\n",
       "      <td>47166.03</td>\n",
       "      <td>2.25</td>\n",
       "      <td>57.28</td>\n",
       "      <td>0.0</td>\n",
       "    </tr>\n",
       "    <tr>\n",
       "      <td>1</td>\n",
       "      <td>2016-01-01</td>\n",
       "      <td>NaN</td>\n",
       "      <td>DISTRICT ATTORNEY-MANHATTAN</td>\n",
       "      <td>ABENSUR</td>\n",
       "      <td>MARGARET</td>\n",
       "      <td>NaN</td>\n",
       "      <td>1995-06-12</td>\n",
       "      <td>MANHATTAN</td>\n",
       "      <td>ADMINISTRATIVE ACCOUNTANT</td>\n",
       "      <td>ACTIVE</td>\n",
       "      <td>119959.0</td>\n",
       "      <td>per Annum</td>\n",
       "      <td>1831.00</td>\n",
       "      <td>119042.50</td>\n",
       "      <td>0.00</td>\n",
       "      <td>0.00</td>\n",
       "      <td>0.0</td>\n",
       "    </tr>\n",
       "    <tr>\n",
       "      <td>2</td>\n",
       "      <td>2016-01-01</td>\n",
       "      <td>NaN</td>\n",
       "      <td>DISTRICT ATTORNEY-MANHATTAN</td>\n",
       "      <td>ABOUNAOUM</td>\n",
       "      <td>ANDREA</td>\n",
       "      <td>L</td>\n",
       "      <td>2011-10-11</td>\n",
       "      <td>MANHATTAN</td>\n",
       "      <td>COMMUNITY ASSOCIATE</td>\n",
       "      <td>ON LEAVE</td>\n",
       "      <td>39966.0</td>\n",
       "      <td>per Annum</td>\n",
       "      <td>1181.68</td>\n",
       "      <td>27452.62</td>\n",
       "      <td>1.00</td>\n",
       "      <td>21.34</td>\n",
       "      <td>33.0</td>\n",
       "    </tr>\n",
       "    <tr>\n",
       "      <td>3</td>\n",
       "      <td>2016-01-01</td>\n",
       "      <td>NaN</td>\n",
       "      <td>DISTRICT ATTORNEY-MANHATTAN</td>\n",
       "      <td>ABRAHAM</td>\n",
       "      <td>JONATHAN</td>\n",
       "      <td>J</td>\n",
       "      <td>2014-12-01</td>\n",
       "      <td>MANHATTAN</td>\n",
       "      <td>COMPUTER SYSTEMS MANAGER</td>\n",
       "      <td>ACTIVE</td>\n",
       "      <td>116000.0</td>\n",
       "      <td>per Annum</td>\n",
       "      <td>1831.00</td>\n",
       "      <td>115104.57</td>\n",
       "      <td>0.00</td>\n",
       "      <td>0.00</td>\n",
       "      <td>0.0</td>\n",
       "    </tr>\n",
       "    <tr>\n",
       "      <td>4</td>\n",
       "      <td>2016-01-01</td>\n",
       "      <td>NaN</td>\n",
       "      <td>DISTRICT ATTORNEY-MANHATTAN</td>\n",
       "      <td>ABRAMS</td>\n",
       "      <td>JOSEPH</td>\n",
       "      <td>NaN</td>\n",
       "      <td>2015-05-21</td>\n",
       "      <td>MANHATTAN</td>\n",
       "      <td>COLLEGE AIDE</td>\n",
       "      <td>CEASED</td>\n",
       "      <td>1.0</td>\n",
       "      <td>per Hour</td>\n",
       "      <td>0.00</td>\n",
       "      <td>3500.00</td>\n",
       "      <td>0.00</td>\n",
       "      <td>0.00</td>\n",
       "      <td>0.0</td>\n",
       "    </tr>\n",
       "  </tbody>\n",
       "</table>\n",
       "</div>"
      ],
      "text/plain": [
       "  Fiscal Year  Payroll Number                  Agency Name  Last Name  \\\n",
       "0  2016-01-01             NaN  DISTRICT ATTORNEY-MANHATTAN  ABA'AHMID   \n",
       "1  2016-01-01             NaN  DISTRICT ATTORNEY-MANHATTAN    ABENSUR   \n",
       "2  2016-01-01             NaN  DISTRICT ATTORNEY-MANHATTAN  ABOUNAOUM   \n",
       "3  2016-01-01             NaN  DISTRICT ATTORNEY-MANHATTAN    ABRAHAM   \n",
       "4  2016-01-01             NaN  DISTRICT ATTORNEY-MANHATTAN     ABRAMS   \n",
       "\n",
       "  First Name Mid Init Agency Start Date Work Location Borough  \\\n",
       "0  RAHASHEEM        E        2003-07-14             MANHATTAN   \n",
       "1   MARGARET      NaN        1995-06-12             MANHATTAN   \n",
       "2     ANDREA        L        2011-10-11             MANHATTAN   \n",
       "3   JONATHAN        J        2014-12-01             MANHATTAN   \n",
       "4     JOSEPH      NaN        2015-05-21             MANHATTAN   \n",
       "\n",
       "           Title Description Leave Status as of June 30  Base Salary  \\\n",
       "0        COMMUNITY ASSOCIATE                     ACTIVE      47678.0   \n",
       "1  ADMINISTRATIVE ACCOUNTANT                     ACTIVE     119959.0   \n",
       "2        COMMUNITY ASSOCIATE                   ON LEAVE      39966.0   \n",
       "3   COMPUTER SYSTEMS MANAGER                     ACTIVE     116000.0   \n",
       "4               COLLEGE AIDE                     CEASED          1.0   \n",
       "\n",
       "   Pay Basis  Regular Hours  Regular Gross Paid  OT Hours  Total OT Paid  \\\n",
       "0  per Annum        1830.00            47166.03      2.25          57.28   \n",
       "1  per Annum        1831.00           119042.50      0.00           0.00   \n",
       "2  per Annum        1181.68            27452.62      1.00          21.34   \n",
       "3  per Annum        1831.00           115104.57      0.00           0.00   \n",
       "4   per Hour           0.00             3500.00      0.00           0.00   \n",
       "\n",
       "   Total Other Pay  \n",
       "0              0.0  \n",
       "1              0.0  \n",
       "2             33.0  \n",
       "3              0.0  \n",
       "4              0.0  "
      ]
     },
     "execution_count": 11,
     "metadata": {},
     "output_type": "execute_result"
    }
   ],
   "source": [
    "# Upon further examination, Data Dictionary says that Payroll Number is just related to Agency that Employee works for\n",
    "# No need to address this\n",
    "\n",
    "# Convert Agency Start Date to Dt Objects\n",
    "payroll['Agency Start Date'] = pd.to_datetime(payroll['Agency Start Date'], errors = 'coerce')\n",
    "payroll['Fiscal Year'] = pd.to_datetime(payroll['Fiscal Year'], format = '%Y')\n",
    "payroll.head()"
   ]
  },
  {
   "cell_type": "code",
   "execution_count": 12,
   "metadata": {},
   "outputs": [
    {
     "data": {
      "text/plain": [
       "SENIOR RACKETS INVESTIGATOR                               557\n",
       "SENIOR RACKETS INVESTIGATOR - START >4-24-08 NO ABC       294\n",
       "SUPERVISING RACKETS INVESTIGATOR                          224\n",
       "RACKETS INVESTIGATOR                                      211\n",
       "RACKETS INVESTIGATOR - START >4-24-08 NO ABC              158\n",
       "SUPERVISING RACKETS INVESTIGATOR START >4-24-08 NO ABC    118\n",
       "ASSISTANT CHIEF RACKET INVESTIGATOR                        28\n",
       "CHIEF RACKETS INVESTIGATOR                                 17\n",
       "ELECTION WORKER                                             8\n",
       "CHIEF RACKETS  INVESTIGATOR                                 7\n",
       "Name: Title Description, dtype: int64"
      ]
     },
     "execution_count": 12,
     "metadata": {},
     "output_type": "execute_result"
    }
   ],
   "source": [
    "# Address NaN's\n",
    "# Which Jobs Have the Most Missing First or Last Names?\n",
    "payroll[payroll['First Name'].isnull() | payroll['Last Name'].isnull()]['Title Description'].value_counts()[:10]"
   ]
  },
  {
   "cell_type": "code",
   "execution_count": 13,
   "metadata": {},
   "outputs": [
    {
     "data": {
      "text/plain": [
       "DISTRICT ATTORNEY KINGS COUNTY    483\n",
       "DISTRICT ATTORNEY-MANHATTAN       452\n",
       "DISTRICT ATTORNEY QNS COUNTY      354\n",
       "BRONX DISTRICT ATTORNEY           292\n",
       "DISTRICT ATTORNEY-SPECIAL NARC    148\n",
       "Kings DA                           89\n",
       "Manhattan DA                       71\n",
       "Queens DA                          58\n",
       "Bronx DA                           45\n",
       "Spec Narcs-DA                      25\n",
       "Name: Agency Name, dtype: int64"
      ]
     },
     "execution_count": 13,
     "metadata": {},
     "output_type": "execute_result"
    }
   ],
   "source": [
    "# Looks like most Missing Names can be attributed to Rackets Investigators\n",
    "# What Agencies do Racket Investigators work for?\n",
    "payroll[payroll['Title Description'].str.contains(\"RACKETS INVESTIGATOR\", na = False)]['Agency Name'].value_counts()"
   ]
  },
  {
   "cell_type": "code",
   "execution_count": 14,
   "metadata": {},
   "outputs": [
    {
     "data": {
      "text/html": [
       "<div>\n",
       "<style scoped>\n",
       "    .dataframe tbody tr th:only-of-type {\n",
       "        vertical-align: middle;\n",
       "    }\n",
       "\n",
       "    .dataframe tbody tr th {\n",
       "        vertical-align: top;\n",
       "    }\n",
       "\n",
       "    .dataframe thead th {\n",
       "        text-align: right;\n",
       "    }\n",
       "</style>\n",
       "<table border=\"1\" class=\"dataframe\">\n",
       "  <thead>\n",
       "    <tr style=\"text-align: right;\">\n",
       "      <th></th>\n",
       "      <th>Fiscal Year</th>\n",
       "      <th>Payroll Number</th>\n",
       "      <th>Agency Name</th>\n",
       "      <th>Last Name</th>\n",
       "      <th>First Name</th>\n",
       "      <th>Mid Init</th>\n",
       "      <th>Agency Start Date</th>\n",
       "      <th>Work Location Borough</th>\n",
       "      <th>Title Description</th>\n",
       "      <th>Leave Status as of June 30</th>\n",
       "      <th>Base Salary</th>\n",
       "      <th>Pay Basis</th>\n",
       "      <th>Regular Hours</th>\n",
       "      <th>Regular Gross Paid</th>\n",
       "      <th>OT Hours</th>\n",
       "      <th>Total OT Paid</th>\n",
       "      <th>Total Other Pay</th>\n",
       "    </tr>\n",
       "  </thead>\n",
       "  <tbody>\n",
       "    <tr>\n",
       "      <td>129915</td>\n",
       "      <td>2016-01-01</td>\n",
       "      <td>NaN</td>\n",
       "      <td>COMMUNITY COLLEGE (QUEENSBORO)</td>\n",
       "      <td>COMMISSO</td>\n",
       "      <td>SALVATORE</td>\n",
       "      <td>NaN</td>\n",
       "      <td>2014-01-03</td>\n",
       "      <td>QUEENS</td>\n",
       "      <td>NaN</td>\n",
       "      <td>ACTIVE</td>\n",
       "      <td>52884.00</td>\n",
       "      <td>per Annum</td>\n",
       "      <td>2091.42</td>\n",
       "      <td>49748.88</td>\n",
       "      <td>319.25</td>\n",
       "      <td>11861.34</td>\n",
       "      <td>199.41</td>\n",
       "    </tr>\n",
       "    <tr>\n",
       "      <td>130484</td>\n",
       "      <td>2016-01-01</td>\n",
       "      <td>NaN</td>\n",
       "      <td>COMMUNITY COLLEGE (QUEENSBORO)</td>\n",
       "      <td>GREEN</td>\n",
       "      <td>BRUCE</td>\n",
       "      <td>S</td>\n",
       "      <td>2005-11-01</td>\n",
       "      <td>QUEENS</td>\n",
       "      <td>NaN</td>\n",
       "      <td>ACTIVE</td>\n",
       "      <td>56072.00</td>\n",
       "      <td>per Annum</td>\n",
       "      <td>2091.42</td>\n",
       "      <td>56624.79</td>\n",
       "      <td>505.00</td>\n",
       "      <td>20462.83</td>\n",
       "      <td>533.72</td>\n",
       "    </tr>\n",
       "    <tr>\n",
       "      <td>196326</td>\n",
       "      <td>2016-01-01</td>\n",
       "      <td>NaN</td>\n",
       "      <td>DEPT OF ED HRLY SUPPORT STAFF</td>\n",
       "      <td>AVERSA</td>\n",
       "      <td>CARMELA</td>\n",
       "      <td>T</td>\n",
       "      <td>2011-07-01</td>\n",
       "      <td>MANHATTAN</td>\n",
       "      <td>NaN</td>\n",
       "      <td>CEASED</td>\n",
       "      <td>14.39</td>\n",
       "      <td>per Hour</td>\n",
       "      <td>0.00</td>\n",
       "      <td>1000.00</td>\n",
       "      <td>0.00</td>\n",
       "      <td>0.00</td>\n",
       "      <td>0.00</td>\n",
       "    </tr>\n",
       "    <tr>\n",
       "      <td>210630</td>\n",
       "      <td>2016-01-01</td>\n",
       "      <td>NaN</td>\n",
       "      <td>DEPT OF ED HRLY SUPPORT STAFF</td>\n",
       "      <td>ORTIZ</td>\n",
       "      <td>A</td>\n",
       "      <td>NaN</td>\n",
       "      <td>1999-12-31</td>\n",
       "      <td>MANHATTAN</td>\n",
       "      <td>NaN</td>\n",
       "      <td>ACTIVE</td>\n",
       "      <td>13.17</td>\n",
       "      <td>per Hour</td>\n",
       "      <td>0.00</td>\n",
       "      <td>11562.37</td>\n",
       "      <td>0.00</td>\n",
       "      <td>1621.92</td>\n",
       "      <td>0.00</td>\n",
       "    </tr>\n",
       "    <tr>\n",
       "      <td>213234</td>\n",
       "      <td>2016-01-01</td>\n",
       "      <td>NaN</td>\n",
       "      <td>DEPT OF ED HRLY SUPPORT STAFF</td>\n",
       "      <td>RIVERS</td>\n",
       "      <td>JANET</td>\n",
       "      <td>C</td>\n",
       "      <td>2011-07-01</td>\n",
       "      <td>MANHATTAN</td>\n",
       "      <td>NaN</td>\n",
       "      <td>CEASED</td>\n",
       "      <td>14.39</td>\n",
       "      <td>per Hour</td>\n",
       "      <td>0.00</td>\n",
       "      <td>625.00</td>\n",
       "      <td>0.00</td>\n",
       "      <td>0.00</td>\n",
       "      <td>0.00</td>\n",
       "    </tr>\n",
       "  </tbody>\n",
       "</table>\n",
       "</div>"
      ],
      "text/plain": [
       "       Fiscal Year  Payroll Number                     Agency Name Last Name  \\\n",
       "129915  2016-01-01             NaN  COMMUNITY COLLEGE (QUEENSBORO)  COMMISSO   \n",
       "130484  2016-01-01             NaN  COMMUNITY COLLEGE (QUEENSBORO)     GREEN   \n",
       "196326  2016-01-01             NaN   DEPT OF ED HRLY SUPPORT STAFF    AVERSA   \n",
       "210630  2016-01-01             NaN   DEPT OF ED HRLY SUPPORT STAFF     ORTIZ   \n",
       "213234  2016-01-01             NaN   DEPT OF ED HRLY SUPPORT STAFF    RIVERS   \n",
       "\n",
       "       First Name Mid Init Agency Start Date Work Location Borough  \\\n",
       "129915  SALVATORE      NaN        2014-01-03                QUEENS   \n",
       "130484      BRUCE        S        2005-11-01                QUEENS   \n",
       "196326    CARMELA        T        2011-07-01             MANHATTAN   \n",
       "210630          A      NaN        1999-12-31             MANHATTAN   \n",
       "213234      JANET        C        2011-07-01             MANHATTAN   \n",
       "\n",
       "       Title Description Leave Status as of June 30  Base Salary  Pay Basis  \\\n",
       "129915               NaN                     ACTIVE     52884.00  per Annum   \n",
       "130484               NaN                     ACTIVE     56072.00  per Annum   \n",
       "196326               NaN                     CEASED        14.39   per Hour   \n",
       "210630               NaN                     ACTIVE        13.17   per Hour   \n",
       "213234               NaN                     CEASED        14.39   per Hour   \n",
       "\n",
       "        Regular Hours  Regular Gross Paid  OT Hours  Total OT Paid  \\\n",
       "129915        2091.42            49748.88    319.25       11861.34   \n",
       "130484        2091.42            56624.79    505.00       20462.83   \n",
       "196326           0.00             1000.00      0.00           0.00   \n",
       "210630           0.00            11562.37      0.00        1621.92   \n",
       "213234           0.00              625.00      0.00           0.00   \n",
       "\n",
       "        Total Other Pay  \n",
       "129915           199.41  \n",
       "130484           533.72  \n",
       "196326             0.00  \n",
       "210630             0.00  \n",
       "213234             0.00  "
      ]
     },
     "execution_count": 14,
     "metadata": {},
     "output_type": "execute_result"
    }
   ],
   "source": [
    "# All Racket Investigators work for some District Attorney\n",
    "# Even though they are usually former NYPD, this is outside of our scope of interest\n",
    "\n",
    "# Lets look at a sample of missing Title Descriptions\n",
    "payroll[payroll['Title Description'].isnull()].head()"
   ]
  },
  {
   "cell_type": "code",
   "execution_count": 15,
   "metadata": {},
   "outputs": [
    {
     "data": {
      "text/plain": [
       "DISTRICT ATTORNEY RICHMOND COU    38\n",
       "DEPT OF ED HRLY SUPPORT STAFF     14\n",
       "DEPT OF ED PARA PROFESSIONALS     14\n",
       "COMMUNITY COLLEGE (QUEENSBORO)    12\n",
       "Name: Agency Name, dtype: int64"
      ]
     },
     "execution_count": 15,
     "metadata": {},
     "output_type": "execute_result"
    }
   ],
   "source": [
    "# What Agencies Have the most NaN Title Descriptions?\n",
    "payroll[payroll['Title Description'].isnull()]['Agency Name'].value_counts()"
   ]
  },
  {
   "cell_type": "code",
   "execution_count": 16,
   "metadata": {
    "slideshow": {
     "slide_type": "-"
    }
   },
   "outputs": [],
   "source": [
    "# Not relevant to Police Data, but interesting that some positions have no descriptions\n",
    "# At this point, we're done exploring NaNs / Outliers and won't be doing any transformations"
   ]
  },
  {
   "cell_type": "markdown",
   "metadata": {},
   "source": [
    "# Data Manipulation\n",
    "All Police Officers belong to the Police Department but not all Police Department Employees are Police Officers"
   ]
  },
  {
   "cell_type": "code",
   "execution_count": 17,
   "metadata": {},
   "outputs": [],
   "source": [
    "# Lets Capitalize All Agency Names and Title Descriptions for Normalization\n",
    "payroll['Agency Name'] = payroll['Agency Name'].str.upper()\n",
    "payroll['Title Description'] = payroll['Title Description'].str.upper()"
   ]
  },
  {
   "cell_type": "code",
   "execution_count": 18,
   "metadata": {},
   "outputs": [],
   "source": [
    "payroll['Police Officer'] = payroll['Title Description'] == 'POLICE OFFICER'"
   ]
  },
  {
   "cell_type": "markdown",
   "metadata": {},
   "source": [
    "# Visualizations and Comparisons"
   ]
  },
  {
   "cell_type": "code",
   "execution_count": 20,
   "metadata": {},
   "outputs": [
    {
     "data": {
      "text/plain": [
       "Text(0.5, 0, 'Is Police Officer')"
      ]
     },
     "execution_count": 20,
     "metadata": {},
     "output_type": "execute_result"
    },
    {
     "data": {
      "image/png": "[encoded data removed]",
      "text/plain": [
       "<Figure size 432x288 with 1 Axes>"
      ]
     },
     "metadata": {
      "needs_background": "light"
     },
     "output_type": "display_data"
    }
   ],
   "source": [
    "# How does the distribution of Base Salary differ between Police and Non-Police?\n",
    "sns.boxplot(x = 'Police Officer', y = 'Regular Gross Paid', data = payroll)\n",
    "plt.title('Distribution of Base Salary')\n",
    "plt.xlabel('Is Police Officer')"
   ]
  },
  {
   "cell_type": "code",
   "execution_count": 22,
   "metadata": {},
   "outputs": [
    {
     "data": {
      "image/png": "[encoded data removed]",
      "text/plain": [
       "<Figure size 432x288 with 1 Axes>"
      ]
     },
     "metadata": {
      "needs_background": "light"
     },
     "output_type": "display_data"
    }
   ],
   "source": [
    "# A Police Officer in the 25% percentile of the department is paid more than the median NYC employee\n",
    "# Many Outliers on the high side for both police officers and and non-police\n",
    "\n",
    "# What are the distributions of Base Salary  like for Police Officers vs. Non Police Officers?\n",
    "\n",
    "# Regular Gross Paid Entries that are 0 from leave / cease employment are skewing visualizations\n",
    "# To work with this, we will use quantiles to remove values < 1000 and remove values more than 85% percentile\n",
    "x = payroll[payroll['Police Officer'] == True]['Base Salary']\n",
    "y = x[x.between(x.quantile(.00), x.quantile(.85))]\n",
    "sns.distplot(y, hist = False, label ='Police')\n",
    "x = payroll[payroll['Police Officer'] == False]['Base Salary']\n",
    "y = x[x.between(x.quantile(.50), x.quantile(.85))]\n",
    "sns.distplot(y, hist = False, label = 'Non-Police')\n",
    "plt.title('Base Salary of NYC Employees')\n",
    "txt = 'Note - Outliers have been Removed'\n",
    "plt.figtext(0.5, -.05, txt, wrap=True, horizontalalignment='center', fontsize=10)\n",
    "plt.show()"
   ]
  },
  {
   "cell_type": "code",
   "execution_count": 23,
   "metadata": {},
   "outputs": [
    {
     "data": {
      "image/png": "[encoded data removed]",
      "text/plain": [
       "<Figure size 432x288 with 1 Axes>"
      ]
     },
     "metadata": {
      "needs_background": "light"
     },
     "output_type": "display_data"
    }
   ],
   "source": [
    "# Base Salary is 0 for many hourly workers, a better measure may be Regular Gross Paid\n",
    "\n",
    "x = payroll[payroll['Police Officer'] == True]['Regular Gross Paid']\n",
    "y = x[x.between(x.quantile(.05), x.quantile(.95))]\n",
    "sns.distplot(y, hist = False, label ='Police')\n",
    "x = payroll[payroll['Police Officer'] == False]['Regular Gross Paid']\n",
    "y = x[x.between(x.quantile(.05), x.quantile(.95))]\n",
    "sns.distplot(y, hist = False, label = 'Non-Police')\n",
    "plt.title('Gross Pay of NYC Employees')\n",
    "txt = 'Note - Outliers have been Removed'\n",
    "plt.figtext(0.5, -.04, txt, wrap=True, horizontalalignment='center', fontsize=10)\n",
    "plt.show()"
   ]
  },
  {
   "cell_type": "code",
   "execution_count": 25,
   "metadata": {},
   "outputs": [
    {
     "data": {
      "image/png": "[encoded data removed]",
      "text/plain": [
       "<Figure size 432x288 with 1 Axes>"
      ]
     },
     "metadata": {
      "needs_background": "light"
     },
     "output_type": "display_data"
    }
   ],
   "source": [
    "x = payroll[payroll['Police Officer'] == True]['Total OT Paid']\n",
    "y = x[x.between(x.quantile(.05), x.quantile(.95))]\n",
    "sns.distplot(y, hist = False, label ='Police')\n",
    "x = payroll[payroll['Police Officer'] == False]['Total OT Paid']\n",
    "y = x[x.between(x.quantile(.05), x.quantile(.95))]\n",
    "sns.distplot(y, hist = False, label = 'Non-Police')\n",
    "plt.title('Overtime Pay of NYC Employees')\n",
    "txt = 'Note - Outliers have been Removed'\n",
    "plt.figtext(0.5, -.04, txt, wrap=True, horizontalalignment='center', fontsize=10)\n",
    "plt.show()"
   ]
  },
  {
   "cell_type": "code",
   "execution_count": 81,
   "metadata": {},
   "outputs": [
    {
     "data": {
      "image/png": "[encoded data removed]",
      "text/plain": [
       "<Figure size 432x288 with 1 Axes>"
      ]
     },
     "metadata": {
      "needs_background": "light"
     },
     "output_type": "display_data"
    },
    {
     "data": {
      "image/png": "[encoded data removed]",
      "text/plain": [
       "<Figure size 432x288 with 1 Axes>"
      ]
     },
     "metadata": {
      "needs_background": "light"
     },
     "output_type": "display_data"
    }
   ],
   "source": [
    "# What about pay related statistics over the last 4 years?\n",
    "grouped_median = payroll.groupby(by = ['Fiscal Year', 'Police Officer']).median()['Base Salary']\n",
    "grouped_median.unstack(level=1).plot(kind='line', subplots=False)\n",
    "plt.ylabel('Pay')\n",
    "plt.title('Median Base Salary')\n",
    "plt.show()\n",
    "\n",
    "grouped_mean = payroll.groupby(by = ['Fiscal Year', 'Police Officer']).mean()['Base Salary']\n",
    "grouped_mean.unstack(level=1).plot(kind='line', subplots=False)\n",
    "plt.ylabel('Pay')\n",
    "plt.title('Mean Base Salary')\n",
    "plt.show()"
   ]
  },
  {
   "cell_type": "code",
   "execution_count": 84,
   "metadata": {},
   "outputs": [
    {
     "data": {
      "image/png": "[encoded data removed]",
      "text/plain": [
       "<Figure size 432x288 with 1 Axes>"
      ]
     },
     "metadata": {
      "needs_background": "light"
     },
     "output_type": "display_data"
    },
    {
     "data": {
      "image/png": "[encoded data removed]",
      "text/plain": [
       "<Figure size 432x288 with 1 Axes>"
      ]
     },
     "metadata": {
      "needs_background": "light"
     },
     "output_type": "display_data"
    }
   ],
   "source": [
    "# Now, Total Gross Paid\n",
    "grouped_median = payroll.groupby(by = ['Fiscal Year', 'Police Officer']).median()['Regular Gross Paid']\n",
    "grouped_median.unstack(level=1).plot(kind='line', subplots=False)\n",
    "plt.ylabel('Pay')\n",
    "plt.title('Median Gross Income')\n",
    "plt.show()\n",
    "\n",
    "grouped_mean = payroll.groupby(by = ['Fiscal Year', 'Police Officer']).mean()['Regular Gross Paid']\n",
    "grouped_mean.unstack(level=1).plot(kind='line', subplots=False)\n",
    "plt.ylabel('Pay')\n",
    "plt.title('Mean Gross Income')\n",
    "plt.show()"
   ]
  },
  {
   "cell_type": "code",
   "execution_count": 86,
   "metadata": {},
   "outputs": [
    {
     "data": {
      "image/png": "[encoded data removed]",
      "text/plain": [
       "<Figure size 432x288 with 1 Axes>"
      ]
     },
     "metadata": {
      "needs_background": "light"
     },
     "output_type": "display_data"
    },
    {
     "data": {
      "image/png": "[encoded data removed]",
      "text/plain": [
       "<Figure size 432x288 with 1 Axes>"
      ]
     },
     "metadata": {
      "needs_background": "light"
     },
     "output_type": "display_data"
    }
   ],
   "source": [
    "# Now, Overtime\n",
    "grouped_median = payroll.groupby(by = ['Fiscal Year', 'Police Officer']).median()['Total OT Paid']\n",
    "grouped_median.unstack(level=1).plot(kind='line', subplots=False)\n",
    "plt.ylabel('Pay')\n",
    "plt.title('Median Overtime Pay')\n",
    "plt.show()\n",
    "\n",
    "grouped_mean = payroll.groupby(by = ['Fiscal Year', 'Police Officer']).mean()['Total OT Paid']\n",
    "grouped_mean.unstack(level=1).plot(kind='line', subplots=False)\n",
    "plt.ylabel('Pay')\n",
    "plt.title('Mean Overtime Pay')\n",
    "plt.show()"
   ]
  },
  {
   "cell_type": "code",
   "execution_count": 119,
   "metadata": {},
   "outputs": [
    {
     "ename": "TypeError",
     "evalue": "unsupported operand type(s) for /: 'str' and 'int'",
     "output_type": "error",
     "traceback": [
      "\u001b[0;31m---------------------------------------------------------------------------\u001b[0m",
      "\u001b[0;31mTypeError\u001b[0m                                 Traceback (most recent call last)",
      "\u001b[0;32m<ipython-input-119-c4db69255261>\u001b[0m in \u001b[0;36m<module>\u001b[0;34m\u001b[0m\n\u001b[1;32m      1\u001b[0m \u001b[0mgrouped_title_median\u001b[0m \u001b[0;34m=\u001b[0m \u001b[0mpayroll\u001b[0m\u001b[0;34m[\u001b[0m\u001b[0mpayroll\u001b[0m\u001b[0;34m[\u001b[0m\u001b[0;34m'Fiscal Year'\u001b[0m\u001b[0;34m]\u001b[0m \u001b[0;34m==\u001b[0m \u001b[0;34m'2019'\u001b[0m\u001b[0;34m]\u001b[0m\u001b[0;34m.\u001b[0m\u001b[0mgroupby\u001b[0m\u001b[0;34m(\u001b[0m\u001b[0mby\u001b[0m\u001b[0;34m=\u001b[0m\u001b[0;34m[\u001b[0m\u001b[0;34m'Agency Name'\u001b[0m\u001b[0;34m]\u001b[0m\u001b[0;34m)\u001b[0m\u001b[0;34m.\u001b[0m\u001b[0mmedian\u001b[0m\u001b[0;34m(\u001b[0m\u001b[0;34m)\u001b[0m\u001b[0;34m\u001b[0m\u001b[0;34m\u001b[0m\u001b[0m\n\u001b[1;32m      2\u001b[0m \u001b[0mdata\u001b[0m \u001b[0;34m=\u001b[0m \u001b[0mgrouped_title_median\u001b[0m\u001b[0;34m[\u001b[0m\u001b[0;34m'Total OT Paid'\u001b[0m\u001b[0;34m]\u001b[0m\u001b[0;34m.\u001b[0m\u001b[0msort_values\u001b[0m\u001b[0;34m(\u001b[0m\u001b[0mascending\u001b[0m \u001b[0;34m=\u001b[0m \u001b[0;32mFalse\u001b[0m\u001b[0;34m)\u001b[0m\u001b[0;34m[\u001b[0m\u001b[0;34m:\u001b[0m\u001b[0;36m5\u001b[0m\u001b[0;34m]\u001b[0m\u001b[0;34m.\u001b[0m\u001b[0mreset_index\u001b[0m\u001b[0;34m(\u001b[0m\u001b[0;34m)\u001b[0m\u001b[0;34m\u001b[0m\u001b[0;34m\u001b[0m\u001b[0m\n\u001b[0;32m----> 3\u001b[0;31m \u001b[0msns\u001b[0m\u001b[0;34m.\u001b[0m\u001b[0mbarplot\u001b[0m\u001b[0;34m(\u001b[0m\u001b[0mx\u001b[0m\u001b[0;34m=\u001b[0m\u001b[0;34m'Agency Name'\u001b[0m\u001b[0;34m,\u001b[0m \u001b[0my\u001b[0m\u001b[0;34m=\u001b[0m\u001b[0;34m'Total OT Paid'\u001b[0m\u001b[0;34m,\u001b[0m \u001b[0mdata\u001b[0m \u001b[0;34m=\u001b[0m \u001b[0mdata\u001b[0m\u001b[0;34m,\u001b[0m \u001b[0morient\u001b[0m \u001b[0;34m=\u001b[0m \u001b[0;34m'h'\u001b[0m\u001b[0;34m)\u001b[0m\u001b[0;34m\u001b[0m\u001b[0;34m\u001b[0m\u001b[0m\n\u001b[0m",
      "\u001b[0;32m/opt/anaconda3/lib/python3.7/site-packages/seaborn/categorical.py\u001b[0m in \u001b[0;36mbarplot\u001b[0;34m(x, y, hue, data, order, hue_order, estimator, ci, n_boot, units, orient, color, palette, saturation, errcolor, errwidth, capsize, dodge, ax, **kwargs)\u001b[0m\n\u001b[1;32m   3147\u001b[0m                           \u001b[0mestimator\u001b[0m\u001b[0;34m,\u001b[0m \u001b[0mci\u001b[0m\u001b[0;34m,\u001b[0m \u001b[0mn_boot\u001b[0m\u001b[0;34m,\u001b[0m \u001b[0munits\u001b[0m\u001b[0;34m,\u001b[0m\u001b[0;34m\u001b[0m\u001b[0;34m\u001b[0m\u001b[0m\n\u001b[1;32m   3148\u001b[0m                           \u001b[0morient\u001b[0m\u001b[0;34m,\u001b[0m \u001b[0mcolor\u001b[0m\u001b[0;34m,\u001b[0m \u001b[0mpalette\u001b[0m\u001b[0;34m,\u001b[0m \u001b[0msaturation\u001b[0m\u001b[0;34m,\u001b[0m\u001b[0;34m\u001b[0m\u001b[0;34m\u001b[0m\u001b[0m\n\u001b[0;32m-> 3149\u001b[0;31m                           errcolor, errwidth, capsize, dodge)\n\u001b[0m\u001b[1;32m   3150\u001b[0m \u001b[0;34m\u001b[0m\u001b[0m\n\u001b[1;32m   3151\u001b[0m     \u001b[0;32mif\u001b[0m \u001b[0max\u001b[0m \u001b[0;32mis\u001b[0m \u001b[0;32mNone\u001b[0m\u001b[0;34m:\u001b[0m\u001b[0;34m\u001b[0m\u001b[0;34m\u001b[0m\u001b[0m\n",
      "\u001b[0;32m/opt/anaconda3/lib/python3.7/site-packages/seaborn/categorical.py\u001b[0m in \u001b[0;36m__init__\u001b[0;34m(self, x, y, hue, data, order, hue_order, estimator, ci, n_boot, units, orient, color, palette, saturation, errcolor, errwidth, capsize, dodge)\u001b[0m\n\u001b[1;32m   1607\u001b[0m                                  order, hue_order, units)\n\u001b[1;32m   1608\u001b[0m         \u001b[0mself\u001b[0m\u001b[0;34m.\u001b[0m\u001b[0mestablish_colors\u001b[0m\u001b[0;34m(\u001b[0m\u001b[0mcolor\u001b[0m\u001b[0;34m,\u001b[0m \u001b[0mpalette\u001b[0m\u001b[0;34m,\u001b[0m \u001b[0msaturation\u001b[0m\u001b[0;34m)\u001b[0m\u001b[0;34m\u001b[0m\u001b[0;34m\u001b[0m\u001b[0m\n\u001b[0;32m-> 1609\u001b[0;31m         \u001b[0mself\u001b[0m\u001b[0;34m.\u001b[0m\u001b[0mestimate_statistic\u001b[0m\u001b[0;34m(\u001b[0m\u001b[0mestimator\u001b[0m\u001b[0;34m,\u001b[0m \u001b[0mci\u001b[0m\u001b[0;34m,\u001b[0m \u001b[0mn_boot\u001b[0m\u001b[0;34m)\u001b[0m\u001b[0;34m\u001b[0m\u001b[0;34m\u001b[0m\u001b[0m\n\u001b[0m\u001b[1;32m   1610\u001b[0m \u001b[0;34m\u001b[0m\u001b[0m\n\u001b[1;32m   1611\u001b[0m         \u001b[0mself\u001b[0m\u001b[0;34m.\u001b[0m\u001b[0mdodge\u001b[0m \u001b[0;34m=\u001b[0m \u001b[0mdodge\u001b[0m\u001b[0;34m\u001b[0m\u001b[0;34m\u001b[0m\u001b[0m\n",
      "\u001b[0;32m/opt/anaconda3/lib/python3.7/site-packages/seaborn/categorical.py\u001b[0m in \u001b[0;36mestimate_statistic\u001b[0;34m(self, estimator, ci, n_boot)\u001b[0m\n\u001b[1;32m   1491\u001b[0m                     \u001b[0mstatistic\u001b[0m\u001b[0;34m.\u001b[0m\u001b[0mappend\u001b[0m\u001b[0;34m(\u001b[0m\u001b[0mnp\u001b[0m\u001b[0;34m.\u001b[0m\u001b[0mnan\u001b[0m\u001b[0;34m)\u001b[0m\u001b[0;34m\u001b[0m\u001b[0;34m\u001b[0m\u001b[0m\n\u001b[1;32m   1492\u001b[0m                 \u001b[0;32melse\u001b[0m\u001b[0;34m:\u001b[0m\u001b[0;34m\u001b[0m\u001b[0;34m\u001b[0m\u001b[0m\n\u001b[0;32m-> 1493\u001b[0;31m                     \u001b[0mstatistic\u001b[0m\u001b[0;34m.\u001b[0m\u001b[0mappend\u001b[0m\u001b[0;34m(\u001b[0m\u001b[0mestimator\u001b[0m\u001b[0;34m(\u001b[0m\u001b[0mstat_data\u001b[0m\u001b[0;34m)\u001b[0m\u001b[0;34m)\u001b[0m\u001b[0;34m\u001b[0m\u001b[0;34m\u001b[0m\u001b[0m\n\u001b[0m\u001b[1;32m   1494\u001b[0m \u001b[0;34m\u001b[0m\u001b[0m\n\u001b[1;32m   1495\u001b[0m                 \u001b[0;31m# Get a confidence interval for this estimate\u001b[0m\u001b[0;34m\u001b[0m\u001b[0;34m\u001b[0m\u001b[0;34m\u001b[0m\u001b[0m\n",
      "\u001b[0;32m<__array_function__ internals>\u001b[0m in \u001b[0;36mmean\u001b[0;34m(*args, **kwargs)\u001b[0m\n",
      "\u001b[0;32m/opt/anaconda3/lib/python3.7/site-packages/numpy/core/fromnumeric.py\u001b[0m in \u001b[0;36mmean\u001b[0;34m(a, axis, dtype, out, keepdims)\u001b[0m\n\u001b[1;32m   3255\u001b[0m \u001b[0;34m\u001b[0m\u001b[0m\n\u001b[1;32m   3256\u001b[0m     return _methods._mean(a, axis=axis, dtype=dtype,\n\u001b[0;32m-> 3257\u001b[0;31m                           out=out, **kwargs)\n\u001b[0m\u001b[1;32m   3258\u001b[0m \u001b[0;34m\u001b[0m\u001b[0m\n\u001b[1;32m   3259\u001b[0m \u001b[0;34m\u001b[0m\u001b[0m\n",
      "\u001b[0;32m/opt/anaconda3/lib/python3.7/site-packages/numpy/core/_methods.py\u001b[0m in \u001b[0;36m_mean\u001b[0;34m(a, axis, dtype, out, keepdims)\u001b[0m\n\u001b[1;32m    161\u001b[0m             \u001b[0mret\u001b[0m \u001b[0;34m=\u001b[0m \u001b[0mret\u001b[0m\u001b[0;34m.\u001b[0m\u001b[0mdtype\u001b[0m\u001b[0;34m.\u001b[0m\u001b[0mtype\u001b[0m\u001b[0;34m(\u001b[0m\u001b[0mret\u001b[0m \u001b[0;34m/\u001b[0m \u001b[0mrcount\u001b[0m\u001b[0;34m)\u001b[0m\u001b[0;34m\u001b[0m\u001b[0;34m\u001b[0m\u001b[0m\n\u001b[1;32m    162\u001b[0m     \u001b[0;32melse\u001b[0m\u001b[0;34m:\u001b[0m\u001b[0;34m\u001b[0m\u001b[0;34m\u001b[0m\u001b[0m\n\u001b[0;32m--> 163\u001b[0;31m         \u001b[0mret\u001b[0m \u001b[0;34m=\u001b[0m \u001b[0mret\u001b[0m \u001b[0;34m/\u001b[0m \u001b[0mrcount\u001b[0m\u001b[0;34m\u001b[0m\u001b[0;34m\u001b[0m\u001b[0m\n\u001b[0m\u001b[1;32m    164\u001b[0m \u001b[0;34m\u001b[0m\u001b[0m\n\u001b[1;32m    165\u001b[0m     \u001b[0;32mreturn\u001b[0m \u001b[0mret\u001b[0m\u001b[0;34m\u001b[0m\u001b[0;34m\u001b[0m\u001b[0m\n",
      "\u001b[0;31mTypeError\u001b[0m: unsupported operand type(s) for /: 'str' and 'int'"
     ]
    }
   ],
   "source": [
    "grouped_title_median = payroll[payroll['Fiscal Year'] == '2019'].groupby(by=['Agency Name']).median()\n",
    "data = grouped_title_median['Total OT Paid'].sort_values(ascending = False)[:5].reset_index()\n",
    "sns.barplot(x='Agency Name', y='Total OT Paid', data = data, orient = 'h')"
   ]
  },
  {
   "cell_type": "code",
   "execution_count": null,
   "metadata": {},
   "outputs": [],
   "source": []
  }
 ],
 "metadata": {
  "kernelspec": {
   "display_name": "Python 3",
   "language": "python",
   "name": "python3"
  },
  "language_info": {
   "codemirror_mode": {
    "name": "ipython",
    "version": 3
   },
   "file_extension": ".py",
   "mimetype": "text/x-python",
   "name": "python",
   "nbconvert_exporter": "python",
   "pygments_lexer": "ipython3",
   "version": "3.7.4"
  }
 },
 "nbformat": 4,
 "nbformat_minor": 4
}
